{
 "cells": [
  {
   "cell_type": "code",
   "execution_count": 60,
   "id": "0c7e6d78",
   "metadata": {},
   "outputs": [],
   "source": [
    "#import dependencies\n",
    "import pandas as pd\n",
    "import matplotlib.pyplot as plt\n",
    "import numpy as np"
   ]
  },
  {
   "cell_type": "code",
   "execution_count": 61,
   "id": "aa5b3f2b",
   "metadata": {},
   "outputs": [],
   "source": [
    "# read csv file\n",
    "df = pd.read_csv(\"Datasets/stroke_data_viz.csv\")"
   ]
  },
  {
   "cell_type": "code",
   "execution_count": 62,
   "id": "0ac2b156",
   "metadata": {},
   "outputs": [
    {
     "data": {
      "text/html": [
       "<div>\n",
       "<style scoped>\n",
       "    .dataframe tbody tr th:only-of-type {\n",
       "        vertical-align: middle;\n",
       "    }\n",
       "\n",
       "    .dataframe tbody tr th {\n",
       "        vertical-align: top;\n",
       "    }\n",
       "\n",
       "    .dataframe thead th {\n",
       "        text-align: right;\n",
       "    }\n",
       "</style>\n",
       "<table border=\"1\" class=\"dataframe\">\n",
       "  <thead>\n",
       "    <tr style=\"text-align: right;\">\n",
       "      <th></th>\n",
       "      <th>pt_id</th>\n",
       "      <th>gender</th>\n",
       "      <th>age</th>\n",
       "      <th>hypertension</th>\n",
       "      <th>heart_disease</th>\n",
       "      <th>ever_married</th>\n",
       "      <th>work_type</th>\n",
       "      <th>residence_type</th>\n",
       "      <th>avg_glucose_level</th>\n",
       "      <th>bmi</th>\n",
       "      <th>smoking_status</th>\n",
       "      <th>stroke</th>\n",
       "    </tr>\n",
       "  </thead>\n",
       "  <tbody>\n",
       "    <tr>\n",
       "      <th>0</th>\n",
       "      <td>0</td>\n",
       "      <td>Male</td>\n",
       "      <td>67.0</td>\n",
       "      <td>No</td>\n",
       "      <td>Yes</td>\n",
       "      <td>Yes</td>\n",
       "      <td>Private</td>\n",
       "      <td>Urban</td>\n",
       "      <td>228.69</td>\n",
       "      <td>36.6</td>\n",
       "      <td>formerly smoked</td>\n",
       "      <td>Yes</td>\n",
       "    </tr>\n",
       "    <tr>\n",
       "      <th>1</th>\n",
       "      <td>1</td>\n",
       "      <td>Male</td>\n",
       "      <td>80.0</td>\n",
       "      <td>No</td>\n",
       "      <td>Yes</td>\n",
       "      <td>Yes</td>\n",
       "      <td>Private</td>\n",
       "      <td>Rural</td>\n",
       "      <td>105.92</td>\n",
       "      <td>32.5</td>\n",
       "      <td>never smoked</td>\n",
       "      <td>Yes</td>\n",
       "    </tr>\n",
       "    <tr>\n",
       "      <th>2</th>\n",
       "      <td>2</td>\n",
       "      <td>Female</td>\n",
       "      <td>49.0</td>\n",
       "      <td>No</td>\n",
       "      <td>No</td>\n",
       "      <td>Yes</td>\n",
       "      <td>Private</td>\n",
       "      <td>Urban</td>\n",
       "      <td>171.23</td>\n",
       "      <td>34.4</td>\n",
       "      <td>smokes</td>\n",
       "      <td>Yes</td>\n",
       "    </tr>\n",
       "    <tr>\n",
       "      <th>3</th>\n",
       "      <td>3</td>\n",
       "      <td>Female</td>\n",
       "      <td>79.0</td>\n",
       "      <td>Yes</td>\n",
       "      <td>No</td>\n",
       "      <td>Yes</td>\n",
       "      <td>Self-employed</td>\n",
       "      <td>Rural</td>\n",
       "      <td>174.12</td>\n",
       "      <td>24.0</td>\n",
       "      <td>never smoked</td>\n",
       "      <td>Yes</td>\n",
       "    </tr>\n",
       "    <tr>\n",
       "      <th>4</th>\n",
       "      <td>4</td>\n",
       "      <td>Male</td>\n",
       "      <td>81.0</td>\n",
       "      <td>No</td>\n",
       "      <td>No</td>\n",
       "      <td>Yes</td>\n",
       "      <td>Private</td>\n",
       "      <td>Urban</td>\n",
       "      <td>186.21</td>\n",
       "      <td>29.0</td>\n",
       "      <td>formerly smoked</td>\n",
       "      <td>Yes</td>\n",
       "    </tr>\n",
       "    <tr>\n",
       "      <th>...</th>\n",
       "      <td>...</td>\n",
       "      <td>...</td>\n",
       "      <td>...</td>\n",
       "      <td>...</td>\n",
       "      <td>...</td>\n",
       "      <td>...</td>\n",
       "      <td>...</td>\n",
       "      <td>...</td>\n",
       "      <td>...</td>\n",
       "      <td>...</td>\n",
       "      <td>...</td>\n",
       "      <td>...</td>\n",
       "    </tr>\n",
       "    <tr>\n",
       "      <th>4904</th>\n",
       "      <td>4904</td>\n",
       "      <td>Female</td>\n",
       "      <td>13.0</td>\n",
       "      <td>No</td>\n",
       "      <td>No</td>\n",
       "      <td>No</td>\n",
       "      <td>no_work</td>\n",
       "      <td>Rural</td>\n",
       "      <td>103.08</td>\n",
       "      <td>18.6</td>\n",
       "      <td>Unknown</td>\n",
       "      <td>No</td>\n",
       "    </tr>\n",
       "    <tr>\n",
       "      <th>4905</th>\n",
       "      <td>4905</td>\n",
       "      <td>Female</td>\n",
       "      <td>81.0</td>\n",
       "      <td>No</td>\n",
       "      <td>No</td>\n",
       "      <td>Yes</td>\n",
       "      <td>Self-employed</td>\n",
       "      <td>Urban</td>\n",
       "      <td>125.20</td>\n",
       "      <td>40.0</td>\n",
       "      <td>never smoked</td>\n",
       "      <td>No</td>\n",
       "    </tr>\n",
       "    <tr>\n",
       "      <th>4906</th>\n",
       "      <td>4906</td>\n",
       "      <td>Female</td>\n",
       "      <td>35.0</td>\n",
       "      <td>No</td>\n",
       "      <td>No</td>\n",
       "      <td>Yes</td>\n",
       "      <td>Self-employed</td>\n",
       "      <td>Rural</td>\n",
       "      <td>82.99</td>\n",
       "      <td>30.6</td>\n",
       "      <td>never smoked</td>\n",
       "      <td>No</td>\n",
       "    </tr>\n",
       "    <tr>\n",
       "      <th>4907</th>\n",
       "      <td>4907</td>\n",
       "      <td>Male</td>\n",
       "      <td>51.0</td>\n",
       "      <td>No</td>\n",
       "      <td>No</td>\n",
       "      <td>Yes</td>\n",
       "      <td>Private</td>\n",
       "      <td>Rural</td>\n",
       "      <td>166.29</td>\n",
       "      <td>25.6</td>\n",
       "      <td>formerly smoked</td>\n",
       "      <td>No</td>\n",
       "    </tr>\n",
       "    <tr>\n",
       "      <th>4908</th>\n",
       "      <td>4908</td>\n",
       "      <td>Female</td>\n",
       "      <td>44.0</td>\n",
       "      <td>No</td>\n",
       "      <td>No</td>\n",
       "      <td>Yes</td>\n",
       "      <td>Govt_job</td>\n",
       "      <td>Urban</td>\n",
       "      <td>85.28</td>\n",
       "      <td>26.2</td>\n",
       "      <td>Unknown</td>\n",
       "      <td>No</td>\n",
       "    </tr>\n",
       "  </tbody>\n",
       "</table>\n",
       "<p>4909 rows × 12 columns</p>\n",
       "</div>"
      ],
      "text/plain": [
       "      pt_id  gender   age hypertension heart_disease ever_married  \\\n",
       "0         0    Male  67.0           No           Yes          Yes   \n",
       "1         1    Male  80.0           No           Yes          Yes   \n",
       "2         2  Female  49.0           No            No          Yes   \n",
       "3         3  Female  79.0          Yes            No          Yes   \n",
       "4         4    Male  81.0           No            No          Yes   \n",
       "...     ...     ...   ...          ...           ...          ...   \n",
       "4904   4904  Female  13.0           No            No           No   \n",
       "4905   4905  Female  81.0           No            No          Yes   \n",
       "4906   4906  Female  35.0           No            No          Yes   \n",
       "4907   4907    Male  51.0           No            No          Yes   \n",
       "4908   4908  Female  44.0           No            No          Yes   \n",
       "\n",
       "          work_type residence_type  avg_glucose_level   bmi   smoking_status  \\\n",
       "0           Private          Urban             228.69  36.6  formerly smoked   \n",
       "1           Private          Rural             105.92  32.5     never smoked   \n",
       "2           Private          Urban             171.23  34.4           smokes   \n",
       "3     Self-employed          Rural             174.12  24.0     never smoked   \n",
       "4           Private          Urban             186.21  29.0  formerly smoked   \n",
       "...             ...            ...                ...   ...              ...   \n",
       "4904        no_work          Rural             103.08  18.6          Unknown   \n",
       "4905  Self-employed          Urban             125.20  40.0     never smoked   \n",
       "4906  Self-employed          Rural              82.99  30.6     never smoked   \n",
       "4907        Private          Rural             166.29  25.6  formerly smoked   \n",
       "4908       Govt_job          Urban              85.28  26.2          Unknown   \n",
       "\n",
       "     stroke  \n",
       "0       Yes  \n",
       "1       Yes  \n",
       "2       Yes  \n",
       "3       Yes  \n",
       "4       Yes  \n",
       "...     ...  \n",
       "4904     No  \n",
       "4905     No  \n",
       "4906     No  \n",
       "4907     No  \n",
       "4908     No  \n",
       "\n",
       "[4909 rows x 12 columns]"
      ]
     },
     "execution_count": 62,
     "metadata": {},
     "output_type": "execute_result"
    }
   ],
   "source": [
    "df\n",
    "## key: \n",
    "## gender: 'Male':0, 'Female':1, 'Other':2\n",
    "## hypertension: 0 if the patient doesn't have hypertension, 1 if the patient has hypertension\n",
    "## heart_disease: 0 if the patient doesn't have any heart diseases, 1 if the patient has a heart disease\n",
    "## ever_married: 0 no, 1 yes\n",
    "## work_type: 'Private':4, 'Self-employed':3, 'Govt_job':2, 'children':1, 'Never_worked':0\n",
    "## residence_type: 'Urban': 0, 'Rural':1\n",
    "## smoking_status: 'formerly smoked': 2, 'never smoked':0, 'smokes':1, 'Unknown':4\n",
    "## Stroke:  0 = no stroke, 1 = stroke"
   ]
  },
  {
   "cell_type": "code",
   "execution_count": 63,
   "id": "a09c2751",
   "metadata": {},
   "outputs": [
    {
     "data": {
      "text/plain": [
       "No     4700\n",
       "Yes     209\n",
       "Name: stroke, dtype: int64"
      ]
     },
     "execution_count": 63,
     "metadata": {},
     "output_type": "execute_result"
    }
   ],
   "source": [
    "# How many people in this dataset have had a stroke?\n",
    "df['stroke'].value_counts()\n",
    "# 4700 people did not have a stroke, 209 have not"
   ]
  },
  {
   "cell_type": "code",
   "execution_count": 64,
   "id": "ad3f5d67",
   "metadata": {},
   "outputs": [],
   "source": [
    "# no stroke data\n",
    "no_stroke_df = df.loc[df['stroke'] == \"No\"]"
   ]
  },
  {
   "cell_type": "code",
   "execution_count": 65,
   "id": "9a93819f",
   "metadata": {},
   "outputs": [],
   "source": [
    "# yes stroke data\n",
    "yes_stroke_df = df.loc[df['stroke'] == \"Yes\"]"
   ]
  },
  {
   "cell_type": "code",
   "execution_count": 66,
   "id": "6b8ddb83",
   "metadata": {},
   "outputs": [
    {
     "data": {
      "text/plain": [
       "4700"
      ]
     },
     "execution_count": 66,
     "metadata": {},
     "output_type": "execute_result"
    }
   ],
   "source": [
    "no_stroke_count = no_stroke_df['stroke'].count()\n",
    "no_stroke_count"
   ]
  },
  {
   "cell_type": "code",
   "execution_count": 67,
   "id": "6dfce332",
   "metadata": {},
   "outputs": [
    {
     "data": {
      "text/plain": [
       "209"
      ]
     },
     "execution_count": 67,
     "metadata": {},
     "output_type": "execute_result"
    }
   ],
   "source": [
    "stroke_count = yes_stroke_df['stroke'].count()\n",
    "stroke_count"
   ]
  },
  {
   "cell_type": "code",
   "execution_count": 68,
   "id": "babfac00",
   "metadata": {},
   "outputs": [
    {
     "data": {
      "image/png": "[encoded data removed]",
      "text/plain": [
       "<Figure size 432x288 with 1 Axes>"
      ]
     },
     "metadata": {},
     "output_type": "display_data"
    }
   ],
   "source": [
    "# Pie chart, where the slices will be ordered and plotted counter-clockwise:\n",
    "labels = 'No Stroke', 'Stroke'\n",
    "sizes = [no_stroke_count, stroke_count]\n",
    "explode = (0, 0.1)  # only \"explode\" the 2nd slice \n",
    "\n",
    "fig1, ax1 = plt.subplots()\n",
    "ax1.pie(sizes, explode=explode, labels=labels, autopct='%1.1f%%',\n",
    "        shadow=True, startangle=90)\n",
    "ax1.axis('equal')  # Equal aspect ratio ensures that pie is drawn as a circle.\n",
    "\n",
    "plt.show()\n"
   ]
  },
  {
   "cell_type": "code",
   "execution_count": 69,
   "id": "1e3995ed",
   "metadata": {},
   "outputs": [
    {
     "data": {
      "text/plain": [
       "89"
      ]
     },
     "execution_count": 69,
     "metadata": {},
     "output_type": "execute_result"
    }
   ],
   "source": [
    "# How many males have had a stroke?\n",
    "male_stroke = df.loc[(df['gender'] == 'Male') \n",
    "            & (df['stroke'] == 'Yes')]\n",
    "male_stroke['stroke'].count()"
   ]
  },
  {
   "cell_type": "code",
   "execution_count": 70,
   "id": "64124171",
   "metadata": {},
   "outputs": [
    {
     "data": {
      "text/plain": [
       "120"
      ]
     },
     "execution_count": 70,
     "metadata": {},
     "output_type": "execute_result"
    }
   ],
   "source": [
    "# How many females have had a stroke?\n",
    "female_stroke = df.loc[(df['gender'] == 'Female')\n",
    "            & (df['stroke'] == 'Yes')]\n",
    "female_stroke['stroke'].count()"
   ]
  },
  {
   "cell_type": "code",
   "execution_count": 71,
   "id": "e30aa321",
   "metadata": {},
   "outputs": [
    {
     "data": {
      "text/plain": [
       "Female    120\n",
       "Male       89\n",
       "Name: gender, dtype: int64"
      ]
     },
     "execution_count": 71,
     "metadata": {},
     "output_type": "execute_result"
    }
   ],
   "source": [
    "yes_stroke_df['gender'].value_counts()"
   ]
  },
  {
   "cell_type": "code",
   "execution_count": 72,
   "id": "a963a861",
   "metadata": {},
   "outputs": [
    {
     "data": {
      "text/html": [
       "<div>\n",
       "<style scoped>\n",
       "    .dataframe tbody tr th:only-of-type {\n",
       "        vertical-align: middle;\n",
       "    }\n",
       "\n",
       "    .dataframe tbody tr th {\n",
       "        vertical-align: top;\n",
       "    }\n",
       "\n",
       "    .dataframe thead th {\n",
       "        text-align: right;\n",
       "    }\n",
       "</style>\n",
       "<table border=\"1\" class=\"dataframe\">\n",
       "  <thead>\n",
       "    <tr style=\"text-align: right;\">\n",
       "      <th></th>\n",
       "      <th>pt_id</th>\n",
       "      <th>gender</th>\n",
       "      <th>age</th>\n",
       "      <th>hypertension</th>\n",
       "      <th>heart_disease</th>\n",
       "      <th>ever_married</th>\n",
       "      <th>work_type</th>\n",
       "      <th>residence_type</th>\n",
       "      <th>avg_glucose_level</th>\n",
       "      <th>bmi</th>\n",
       "      <th>smoking_status</th>\n",
       "      <th>stroke</th>\n",
       "    </tr>\n",
       "  </thead>\n",
       "  <tbody>\n",
       "    <tr>\n",
       "      <th>0</th>\n",
       "      <td>0</td>\n",
       "      <td>Male</td>\n",
       "      <td>67.0</td>\n",
       "      <td>No</td>\n",
       "      <td>Yes</td>\n",
       "      <td>Yes</td>\n",
       "      <td>Private</td>\n",
       "      <td>Urban</td>\n",
       "      <td>228.69</td>\n",
       "      <td>36.6</td>\n",
       "      <td>formerly smoked</td>\n",
       "      <td>Yes</td>\n",
       "    </tr>\n",
       "    <tr>\n",
       "      <th>1</th>\n",
       "      <td>1</td>\n",
       "      <td>Male</td>\n",
       "      <td>80.0</td>\n",
       "      <td>No</td>\n",
       "      <td>Yes</td>\n",
       "      <td>Yes</td>\n",
       "      <td>Private</td>\n",
       "      <td>Rural</td>\n",
       "      <td>105.92</td>\n",
       "      <td>32.5</td>\n",
       "      <td>never smoked</td>\n",
       "      <td>Yes</td>\n",
       "    </tr>\n",
       "    <tr>\n",
       "      <th>2</th>\n",
       "      <td>2</td>\n",
       "      <td>Female</td>\n",
       "      <td>49.0</td>\n",
       "      <td>No</td>\n",
       "      <td>No</td>\n",
       "      <td>Yes</td>\n",
       "      <td>Private</td>\n",
       "      <td>Urban</td>\n",
       "      <td>171.23</td>\n",
       "      <td>34.4</td>\n",
       "      <td>smokes</td>\n",
       "      <td>Yes</td>\n",
       "    </tr>\n",
       "    <tr>\n",
       "      <th>3</th>\n",
       "      <td>3</td>\n",
       "      <td>Female</td>\n",
       "      <td>79.0</td>\n",
       "      <td>Yes</td>\n",
       "      <td>No</td>\n",
       "      <td>Yes</td>\n",
       "      <td>Self-employed</td>\n",
       "      <td>Rural</td>\n",
       "      <td>174.12</td>\n",
       "      <td>24.0</td>\n",
       "      <td>never smoked</td>\n",
       "      <td>Yes</td>\n",
       "    </tr>\n",
       "    <tr>\n",
       "      <th>4</th>\n",
       "      <td>4</td>\n",
       "      <td>Male</td>\n",
       "      <td>81.0</td>\n",
       "      <td>No</td>\n",
       "      <td>No</td>\n",
       "      <td>Yes</td>\n",
       "      <td>Private</td>\n",
       "      <td>Urban</td>\n",
       "      <td>186.21</td>\n",
       "      <td>29.0</td>\n",
       "      <td>formerly smoked</td>\n",
       "      <td>Yes</td>\n",
       "    </tr>\n",
       "    <tr>\n",
       "      <th>...</th>\n",
       "      <td>...</td>\n",
       "      <td>...</td>\n",
       "      <td>...</td>\n",
       "      <td>...</td>\n",
       "      <td>...</td>\n",
       "      <td>...</td>\n",
       "      <td>...</td>\n",
       "      <td>...</td>\n",
       "      <td>...</td>\n",
       "      <td>...</td>\n",
       "      <td>...</td>\n",
       "      <td>...</td>\n",
       "    </tr>\n",
       "    <tr>\n",
       "      <th>204</th>\n",
       "      <td>204</td>\n",
       "      <td>Female</td>\n",
       "      <td>68.0</td>\n",
       "      <td>Yes</td>\n",
       "      <td>Yes</td>\n",
       "      <td>Yes</td>\n",
       "      <td>Private</td>\n",
       "      <td>Urban</td>\n",
       "      <td>247.51</td>\n",
       "      <td>40.5</td>\n",
       "      <td>formerly smoked</td>\n",
       "      <td>Yes</td>\n",
       "    </tr>\n",
       "    <tr>\n",
       "      <th>205</th>\n",
       "      <td>205</td>\n",
       "      <td>Male</td>\n",
       "      <td>57.0</td>\n",
       "      <td>No</td>\n",
       "      <td>No</td>\n",
       "      <td>Yes</td>\n",
       "      <td>Private</td>\n",
       "      <td>Rural</td>\n",
       "      <td>84.96</td>\n",
       "      <td>36.7</td>\n",
       "      <td>Unknown</td>\n",
       "      <td>Yes</td>\n",
       "    </tr>\n",
       "    <tr>\n",
       "      <th>206</th>\n",
       "      <td>206</td>\n",
       "      <td>Female</td>\n",
       "      <td>14.0</td>\n",
       "      <td>No</td>\n",
       "      <td>No</td>\n",
       "      <td>No</td>\n",
       "      <td>no_work</td>\n",
       "      <td>Rural</td>\n",
       "      <td>57.93</td>\n",
       "      <td>30.9</td>\n",
       "      <td>Unknown</td>\n",
       "      <td>Yes</td>\n",
       "    </tr>\n",
       "    <tr>\n",
       "      <th>207</th>\n",
       "      <td>207</td>\n",
       "      <td>Female</td>\n",
       "      <td>75.0</td>\n",
       "      <td>No</td>\n",
       "      <td>No</td>\n",
       "      <td>Yes</td>\n",
       "      <td>Self-employed</td>\n",
       "      <td>Rural</td>\n",
       "      <td>78.80</td>\n",
       "      <td>29.3</td>\n",
       "      <td>formerly smoked</td>\n",
       "      <td>Yes</td>\n",
       "    </tr>\n",
       "    <tr>\n",
       "      <th>208</th>\n",
       "      <td>208</td>\n",
       "      <td>Female</td>\n",
       "      <td>78.0</td>\n",
       "      <td>No</td>\n",
       "      <td>No</td>\n",
       "      <td>Yes</td>\n",
       "      <td>Private</td>\n",
       "      <td>Rural</td>\n",
       "      <td>78.81</td>\n",
       "      <td>19.6</td>\n",
       "      <td>Unknown</td>\n",
       "      <td>Yes</td>\n",
       "    </tr>\n",
       "  </tbody>\n",
       "</table>\n",
       "<p>209 rows × 12 columns</p>\n",
       "</div>"
      ],
      "text/plain": [
       "     pt_id  gender   age hypertension heart_disease ever_married  \\\n",
       "0        0    Male  67.0           No           Yes          Yes   \n",
       "1        1    Male  80.0           No           Yes          Yes   \n",
       "2        2  Female  49.0           No            No          Yes   \n",
       "3        3  Female  79.0          Yes            No          Yes   \n",
       "4        4    Male  81.0           No            No          Yes   \n",
       "..     ...     ...   ...          ...           ...          ...   \n",
       "204    204  Female  68.0          Yes           Yes          Yes   \n",
       "205    205    Male  57.0           No            No          Yes   \n",
       "206    206  Female  14.0           No            No           No   \n",
       "207    207  Female  75.0           No            No          Yes   \n",
       "208    208  Female  78.0           No            No          Yes   \n",
       "\n",
       "         work_type residence_type  avg_glucose_level   bmi   smoking_status  \\\n",
       "0          Private          Urban             228.69  36.6  formerly smoked   \n",
       "1          Private          Rural             105.92  32.5     never smoked   \n",
       "2          Private          Urban             171.23  34.4           smokes   \n",
       "3    Self-employed          Rural             174.12  24.0     never smoked   \n",
       "4          Private          Urban             186.21  29.0  formerly smoked   \n",
       "..             ...            ...                ...   ...              ...   \n",
       "204        Private          Urban             247.51  40.5  formerly smoked   \n",
       "205        Private          Rural              84.96  36.7          Unknown   \n",
       "206        no_work          Rural              57.93  30.9          Unknown   \n",
       "207  Self-employed          Rural              78.80  29.3  formerly smoked   \n",
       "208        Private          Rural              78.81  19.6          Unknown   \n",
       "\n",
       "    stroke  \n",
       "0      Yes  \n",
       "1      Yes  \n",
       "2      Yes  \n",
       "3      Yes  \n",
       "4      Yes  \n",
       "..     ...  \n",
       "204    Yes  \n",
       "205    Yes  \n",
       "206    Yes  \n",
       "207    Yes  \n",
       "208    Yes  \n",
       "\n",
       "[209 rows x 12 columns]"
      ]
     },
     "execution_count": 72,
     "metadata": {},
     "output_type": "execute_result"
    }
   ],
   "source": [
    "yes_stroke_df\n"
   ]
  },
  {
   "cell_type": "code",
   "execution_count": 73,
   "id": "d76f690a",
   "metadata": {},
   "outputs": [
    {
     "data": {
      "text/plain": [
       "80.0    16\n",
       "78.0    16\n",
       "81.0    14\n",
       "79.0    13\n",
       "57.0    10\n",
       "82.0     9\n",
       "68.0     9\n",
       "63.0     7\n",
       "77.0     7\n",
       "74.0     7\n",
       "70.0     6\n",
       "59.0     6\n",
       "54.0     6\n",
       "69.0     6\n",
       "71.0     5\n",
       "76.0     5\n",
       "72.0     5\n",
       "60.0     4\n",
       "61.0     4\n",
       "73.0     4\n",
       "58.0     4\n",
       "66.0     3\n",
       "45.0     3\n",
       "56.0     3\n",
       "51.0     3\n",
       "67.0     3\n",
       "39.0     3\n",
       "75.0     3\n",
       "49.0     3\n",
       "50.0     3\n",
       "52.0     2\n",
       "65.0     2\n",
       "64.0     2\n",
       "48.0     2\n",
       "53.0     2\n",
       "55.0     2\n",
       "43.0     1\n",
       "47.0     1\n",
       "38.0     1\n",
       "46.0     1\n",
       "32.0     1\n",
       "42.0     1\n",
       "14.0     1\n",
       "Name: age, dtype: int64"
      ]
     },
     "execution_count": 73,
     "metadata": {},
     "output_type": "execute_result"
    }
   ],
   "source": [
    "yes_stroke_df['age'].value_counts()"
   ]
  },
  {
   "cell_type": "code",
   "execution_count": 74,
   "id": "61f95af1",
   "metadata": {},
   "outputs": [
    {
     "data": {
      "text/plain": [
       "No     149\n",
       "Yes     60\n",
       "Name: hypertension, dtype: int64"
      ]
     },
     "execution_count": 74,
     "metadata": {},
     "output_type": "execute_result"
    }
   ],
   "source": [
    "yes_stroke_df['hypertension'].value_counts()"
   ]
  },
  {
   "cell_type": "code",
   "execution_count": 75,
   "id": "299367b0",
   "metadata": {},
   "outputs": [
    {
     "data": {
      "text/plain": [
       "Yes    186\n",
       "No      23\n",
       "Name: ever_married, dtype: int64"
      ]
     },
     "execution_count": 75,
     "metadata": {},
     "output_type": "execute_result"
    }
   ],
   "source": [
    "yes_stroke_df['ever_married'].value_counts()"
   ]
  },
  {
   "cell_type": "code",
   "execution_count": 76,
   "id": "5d1bd4e7",
   "metadata": {},
   "outputs": [
    {
     "data": {
      "text/plain": [
       "No     169\n",
       "Yes     40\n",
       "Name: heart_disease, dtype: int64"
      ]
     },
     "execution_count": 76,
     "metadata": {},
     "output_type": "execute_result"
    }
   ],
   "source": [
    "yes_stroke_df['heart_disease'].value_counts()"
   ]
  },
  {
   "cell_type": "code",
   "execution_count": 77,
   "id": "7b060bed",
   "metadata": {},
   "outputs": [
    {
     "data": {
      "text/plain": [
       "Private          127\n",
       "Self-employed     53\n",
       "Govt_job          28\n",
       "no_work            1\n",
       "Name: work_type, dtype: int64"
      ]
     },
     "execution_count": 77,
     "metadata": {},
     "output_type": "execute_result"
    }
   ],
   "source": [
    "yes_stroke_df['work_type'].value_counts()"
   ]
  },
  {
   "cell_type": "code",
   "execution_count": 78,
   "id": "a8c4160d",
   "metadata": {},
   "outputs": [
    {
     "data": {
      "text/plain": [
       "Urban    109\n",
       "Rural    100\n",
       "Name: residence_type, dtype: int64"
      ]
     },
     "execution_count": 78,
     "metadata": {},
     "output_type": "execute_result"
    }
   ],
   "source": [
    "yes_stroke_df['residence_type'].value_counts()"
   ]
  },
  {
   "cell_type": "code",
   "execution_count": 37,
   "id": "33b0138b",
   "metadata": {},
   "outputs": [
    {
     "data": {
      "text/plain": [
       "56.11     1\n",
       "57.93     1\n",
       "58.09     1\n",
       "58.57     1\n",
       "59.32     1\n",
       "         ..\n",
       "250.89    1\n",
       "252.72    1\n",
       "259.63    1\n",
       "263.32    1\n",
       "271.74    1\n",
       "Name: avg_glucose_level, Length: 209, dtype: int64"
      ]
     },
     "execution_count": 37,
     "metadata": {},
     "output_type": "execute_result"
    }
   ],
   "source": [
    "yes_stroke_df['avg_glucose_level'].value_counts().sort_index()"
   ]
  },
  {
   "cell_type": "code",
   "execution_count": 80,
   "id": "df3429f4",
   "metadata": {},
   "outputs": [
    {
     "data": {
      "text/plain": [
       "dtype('float64')"
      ]
     },
     "execution_count": 80,
     "metadata": {},
     "output_type": "execute_result"
    }
   ],
   "source": [
    "yes_stroke_df['avg_glucose_level'].dtype"
   ]
  },
  {
   "cell_type": "code",
   "execution_count": 81,
   "id": "4ca0ad37",
   "metadata": {},
   "outputs": [],
   "source": [
    "avg_glucose_lvl = yes_stroke_df['avg_glucose_level']\n"
   ]
  },
  {
   "cell_type": "code",
   "execution_count": 82,
   "id": "ad992a4a",
   "metadata": {},
   "outputs": [],
   "source": [
    "glucose_lvl_bins = [0, 69, 100, 126, 272]\n",
    "glucose_lvl_labels = ['<70','70-100','101-125','>126']"
   ]
  },
  {
   "cell_type": "code",
   "execution_count": 83,
   "id": "30045cb6",
   "metadata": {},
   "outputs": [
    {
     "data": {
      "text/plain": [
       "0      (126, 272]\n",
       "1      (100, 126]\n",
       "2      (126, 272]\n",
       "3      (126, 272]\n",
       "4      (126, 272]\n",
       "          ...    \n",
       "204    (126, 272]\n",
       "205     (69, 100]\n",
       "206       (0, 69]\n",
       "207     (69, 100]\n",
       "208     (69, 100]\n",
       "Name: avg_glucose_level, Length: 209, dtype: category\n",
       "Categories (4, interval[int64, right]): [(0, 69] < (69, 100] < (100, 126] < (126, 272]]"
      ]
     },
     "execution_count": 83,
     "metadata": {},
     "output_type": "execute_result"
    }
   ],
   "source": [
    "pd.cut(avg_glucose_lvl, glucose_lvl_bins)"
   ]
  },
  {
   "cell_type": "code",
   "execution_count": 84,
   "id": "e9636b90",
   "metadata": {},
   "outputs": [
    {
     "data": {
      "text/plain": [
       "avg_glucose_level\n",
       "(0, 69]       20\n",
       "(69, 100]     73\n",
       "(100, 126]    29\n",
       "(126, 272]    87\n",
       "Name: avg_glucose_level, dtype: int64"
      ]
     },
     "execution_count": 84,
     "metadata": {},
     "output_type": "execute_result"
    }
   ],
   "source": [
    "avg_glucose_lvl.groupby(pd.cut(avg_glucose_lvl, glucose_lvl_bins)).count()"
   ]
  },
  {
   "cell_type": "code",
   "execution_count": 85,
   "id": "caaaa0ff",
   "metadata": {},
   "outputs": [
    {
     "name": "stderr",
     "output_type": "stream",
     "text": [
      "C:\\Users\\vryne\\anaconda3\\envs\\PythonData\\lib\\site-packages\\ipykernel_launcher.py:1: SettingWithCopyWarning: \n",
      "A value is trying to be set on a copy of a slice from a DataFrame.\n",
      "Try using .loc[row_indexer,col_indexer] = value instead\n",
      "\n",
      "See the caveats in the documentation: https://pandas.pydata.org/pandas-docs/stable/user_guide/indexing.html#returning-a-view-versus-a-copy\n",
      "  \"\"\"Entry point for launching an IPython kernel.\n"
     ]
    }
   ],
   "source": [
    "yes_stroke_df['avg_glucose_level'] = pd.cut(avg_glucose_lvl, glucose_lvl_bins, labels=glucose_lvl_labels)"
   ]
  },
  {
   "cell_type": "code",
   "execution_count": 86,
   "id": "f3ae6d5d",
   "metadata": {},
   "outputs": [
    {
     "data": {
      "text/plain": [
       "pt_id                   int64\n",
       "gender                 object\n",
       "age                   float64\n",
       "hypertension           object\n",
       "heart_disease          object\n",
       "ever_married           object\n",
       "work_type              object\n",
       "residence_type         object\n",
       "avg_glucose_level    category\n",
       "bmi                   float64\n",
       "smoking_status         object\n",
       "stroke                 object\n",
       "dtype: object"
      ]
     },
     "execution_count": 86,
     "metadata": {},
     "output_type": "execute_result"
    }
   ],
   "source": [
    "yes_stroke_df.dtypes\n"
   ]
  },
  {
   "cell_type": "code",
   "execution_count": 34,
   "id": "0f6cd57c",
   "metadata": {},
   "outputs": [
    {
     "data": {
      "text/plain": [
       "31.4    5\n",
       "27.3    5\n",
       "24.0    4\n",
       "31.7    3\n",
       "36.5    3\n",
       "       ..\n",
       "29.1    1\n",
       "22.9    1\n",
       "44.1    1\n",
       "45.9    1\n",
       "19.6    1\n",
       "Name: bmi, Length: 135, dtype: int64"
      ]
     },
     "execution_count": 34,
     "metadata": {},
     "output_type": "execute_result"
    }
   ],
   "source": [
    "yes_stroke_df['bmi'].value_counts()"
   ]
  },
  {
   "cell_type": "code",
   "execution_count": 36,
   "id": "ef02eec2",
   "metadata": {},
   "outputs": [
    {
     "data": {
      "text/plain": [
       "never smoked       84\n",
       "formerly smoked    57\n",
       "smokes             39\n",
       "Unknown            29\n",
       "Name: smoking_status, dtype: int64"
      ]
     },
     "execution_count": 36,
     "metadata": {},
     "output_type": "execute_result"
    }
   ],
   "source": [
    "yes_stroke_df['smoking_status'].value_counts()"
   ]
  },
  {
   "cell_type": "code",
   "execution_count": null,
   "id": "06c939ff",
   "metadata": {},
   "outputs": [],
   "source": []
  }
 ],
 "metadata": {
  "kernelspec": {
   "display_name": "PythonData",
   "language": "python",
   "name": "pythondata"
  },
  "language_info": {
   "codemirror_mode": {
    "name": "ipython",
    "version": 3
   },
   "file_extension": ".py",
   "mimetype": "text/x-python",
   "name": "python",
   "nbconvert_exporter": "python",
   "pygments_lexer": "ipython3",
   "version": "3.7.11"
  }
 },
 "nbformat": 4,
 "nbformat_minor": 5
}
