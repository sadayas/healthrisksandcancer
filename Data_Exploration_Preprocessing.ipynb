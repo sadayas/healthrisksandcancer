{
 "cells": [
  {
   "cell_type": "code",
   "execution_count": 1,
   "id": "75dd1519",
   "metadata": {},
   "outputs": [],
   "source": [
    "import pandas as pd\n",
    "import matplotlib.pyplot as plt\n",
    "import numpy as np\n",
    "import seaborn as sns"
   ]
  },
  {
   "cell_type": "code",
   "execution_count": 2,
   "id": "b55c40b3",
   "metadata": {},
   "outputs": [
    {
     "data": {
      "text/html": [
       "<div>\n",
       "<style scoped>\n",
       "    .dataframe tbody tr th:only-of-type {\n",
       "        vertical-align: middle;\n",
       "    }\n",
       "\n",
       "    .dataframe tbody tr th {\n",
       "        vertical-align: top;\n",
       "    }\n",
       "\n",
       "    .dataframe thead th {\n",
       "        text-align: right;\n",
       "    }\n",
       "</style>\n",
       "<table border=\"1\" class=\"dataframe\">\n",
       "  <thead>\n",
       "    <tr style=\"text-align: right;\">\n",
       "      <th></th>\n",
       "      <th>country</th>\n",
       "      <th>year</th>\n",
       "      <th>sex</th>\n",
       "      <th>age</th>\n",
       "      <th>suicides_no</th>\n",
       "      <th>population</th>\n",
       "    </tr>\n",
       "  </thead>\n",
       "  <tbody>\n",
       "    <tr>\n",
       "      <th>0</th>\n",
       "      <td>Albania</td>\n",
       "      <td>1985</td>\n",
       "      <td>female</td>\n",
       "      <td>15-24 years</td>\n",
       "      <td>NaN</td>\n",
       "      <td>277900.0</td>\n",
       "    </tr>\n",
       "    <tr>\n",
       "      <th>1</th>\n",
       "      <td>Albania</td>\n",
       "      <td>1985</td>\n",
       "      <td>female</td>\n",
       "      <td>25-34 years</td>\n",
       "      <td>NaN</td>\n",
       "      <td>246800.0</td>\n",
       "    </tr>\n",
       "    <tr>\n",
       "      <th>2</th>\n",
       "      <td>Albania</td>\n",
       "      <td>1985</td>\n",
       "      <td>female</td>\n",
       "      <td>35-54 years</td>\n",
       "      <td>NaN</td>\n",
       "      <td>267500.0</td>\n",
       "    </tr>\n",
       "    <tr>\n",
       "      <th>3</th>\n",
       "      <td>Albania</td>\n",
       "      <td>1985</td>\n",
       "      <td>female</td>\n",
       "      <td>5-14 years</td>\n",
       "      <td>NaN</td>\n",
       "      <td>298300.0</td>\n",
       "    </tr>\n",
       "    <tr>\n",
       "      <th>4</th>\n",
       "      <td>Albania</td>\n",
       "      <td>1985</td>\n",
       "      <td>female</td>\n",
       "      <td>55-74 years</td>\n",
       "      <td>NaN</td>\n",
       "      <td>138700.0</td>\n",
       "    </tr>\n",
       "  </tbody>\n",
       "</table>\n",
       "</div>"
      ],
      "text/plain": [
       "   country  year     sex          age  suicides_no  population\n",
       "0  Albania  1985  female  15-24 years          NaN    277900.0\n",
       "1  Albania  1985  female  25-34 years          NaN    246800.0\n",
       "2  Albania  1985  female  35-54 years          NaN    267500.0\n",
       "3  Albania  1985  female   5-14 years          NaN    298300.0\n",
       "4  Albania  1985  female  55-74 years          NaN    138700.0"
      ]
     },
     "execution_count": 2,
     "metadata": {},
     "output_type": "execute_result"
    }
   ],
   "source": [
    "# Read suicide data\n",
    "data = pd.read_csv('who_suicide_statistics.csv')\n",
    "data.head(5)"
   ]
  },
  {
   "cell_type": "markdown",
   "id": "91f05a28",
   "metadata": {},
   "source": [
    "# Data Wrangling"
   ]
  },
  {
   "cell_type": "code",
   "execution_count": 3,
   "id": "7442a215",
   "metadata": {},
   "outputs": [
    {
     "name": "stdout",
     "output_type": "stream",
     "text": [
      "<class 'pandas.core.frame.DataFrame'>\n",
      "RangeIndex: 43776 entries, 0 to 43775\n",
      "Data columns (total 6 columns):\n",
      " #   Column       Non-Null Count  Dtype  \n",
      "---  ------       --------------  -----  \n",
      " 0   country      43776 non-null  object \n",
      " 1   year         43776 non-null  int64  \n",
      " 2   sex          43776 non-null  object \n",
      " 3   age          43776 non-null  object \n",
      " 4   suicides_no  41520 non-null  float64\n",
      " 5   population   38316 non-null  float64\n",
      "dtypes: float64(2), int64(1), object(3)\n",
      "memory usage: 2.0+ MB\n"
     ]
    }
   ],
   "source": [
    "# Print summary of dataset\n",
    "data.info()"
   ]
  },
  {
   "cell_type": "code",
   "execution_count": 4,
   "id": "7bb76d92",
   "metadata": {},
   "outputs": [
    {
     "data": {
      "text/plain": [
       "(43776, 6)"
      ]
     },
     "execution_count": 4,
     "metadata": {},
     "output_type": "execute_result"
    }
   ],
   "source": [
    "# 6 columns, 43776 rows\n",
    "data.shape"
   ]
  },
  {
   "cell_type": "code",
   "execution_count": 5,
   "id": "78fec823",
   "metadata": {},
   "outputs": [
    {
     "data": {
      "text/plain": [
       "country           0\n",
       "year              0\n",
       "sex               0\n",
       "age               0\n",
       "suicides_no    2256\n",
       "population     5460\n",
       "dtype: int64"
      ]
     },
     "execution_count": 5,
     "metadata": {},
     "output_type": "execute_result"
    }
   ],
   "source": [
    "# counts total row in each col. that have null values\n",
    "# note: all the na columns are type Object\n",
    "data.isna().sum()"
   ]
  },
  {
   "cell_type": "code",
   "execution_count": 6,
   "id": "a4a828f0",
   "metadata": {},
   "outputs": [
    {
     "data": {
      "text/plain": [
       "country        0\n",
       "year           0\n",
       "sex            0\n",
       "age            0\n",
       "suicides_no    0\n",
       "population     0\n",
       "dtype: int64"
      ]
     },
     "execution_count": 6,
     "metadata": {},
     "output_type": "execute_result"
    }
   ],
   "source": [
    "# From above we can see that suicides no and population has null values.\n",
    "# fill the null values with zero using 'fillna'\n",
    "data = data.fillna(0)\n",
    "# Now, we have no null columns!\n",
    "data.isna().sum()"
   ]
  },
  {
   "cell_type": "code",
   "execution_count": 7,
   "id": "6c1363a9",
   "metadata": {},
   "outputs": [
    {
     "data": {
      "text/plain": [
       "array(['15-24 years', '25-34 years', '35-54 years', '5-14 years',\n",
       "       '55-74 years', '75+ years'], dtype=object)"
      ]
     },
     "execution_count": 7,
     "metadata": {},
     "output_type": "execute_result"
    }
   ],
   "source": [
    "# The different age groups\n",
    "data['age'].unique()"
   ]
  },
  {
   "cell_type": "code",
   "execution_count": 8,
   "id": "d50a60df",
   "metadata": {},
   "outputs": [
    {
     "data": {
      "text/plain": [
       "array(['Albania', 'Anguilla', 'Antigua and Barbuda', 'Argentina',\n",
       "       'Armenia', 'Aruba', 'Australia', 'Austria', 'Azerbaijan',\n",
       "       'Bahamas', 'Bahrain', 'Barbados', 'Belarus', 'Belgium', 'Belize',\n",
       "       'Bermuda', 'Bolivia', 'Bosnia and Herzegovina', 'Brazil',\n",
       "       'British Virgin Islands', 'Brunei Darussalam', 'Bulgaria',\n",
       "       'Cabo Verde', 'Canada', 'Cayman Islands', 'Chile', 'Colombia',\n",
       "       'Costa Rica', 'Croatia', 'Cuba', 'Cyprus', 'Czech Republic',\n",
       "       'Denmark', 'Dominica', 'Dominican Republic', 'Ecuador', 'Egypt',\n",
       "       'El Salvador', 'Estonia', 'Falkland Islands (Malvinas)', 'Fiji',\n",
       "       'Finland', 'France', 'French Guiana', 'Georgia', 'Germany',\n",
       "       'Greece', 'Grenada', 'Guadeloupe', 'Guatemala', 'Guyana', 'Haiti',\n",
       "       'Honduras', 'Hong Kong SAR', 'Hungary', 'Iceland',\n",
       "       'Iran (Islamic Rep of)', 'Iraq', 'Ireland', 'Israel', 'Italy',\n",
       "       'Jamaica', 'Japan', 'Jordan', 'Kazakhstan', 'Kiribati', 'Kuwait',\n",
       "       'Kyrgyzstan', 'Latvia', 'Lithuania', 'Luxembourg', 'Macau',\n",
       "       'Malaysia', 'Maldives', 'Malta', 'Martinique', 'Mauritius',\n",
       "       'Mayotte', 'Mexico', 'Monaco', 'Mongolia', 'Montenegro',\n",
       "       'Montserrat', 'Morocco', 'Netherlands', 'Netherlands Antilles',\n",
       "       'New Zealand', 'Nicaragua', 'Norway',\n",
       "       'Occupied Palestinian Territory', 'Oman', 'Panama', 'Paraguay',\n",
       "       'Peru', 'Philippines', 'Poland', 'Portugal', 'Puerto Rico',\n",
       "       'Qatar', 'Republic of Korea', 'Republic of Moldova', 'Reunion',\n",
       "       'Rodrigues', 'Romania', 'Russian Federation',\n",
       "       'Saint Kitts and Nevis', 'Saint Lucia',\n",
       "       'Saint Pierre and Miquelon', 'Saint Vincent and Grenadines',\n",
       "       'San Marino', 'Sao Tome and Principe', 'Saudi Arabia', 'Serbia',\n",
       "       'Seychelles', 'Singapore', 'Slovakia', 'Slovenia', 'South Africa',\n",
       "       'Spain', 'Sri Lanka', 'Suriname', 'Sweden', 'Switzerland',\n",
       "       'Syrian Arab Republic', 'TFYR Macedonia', 'Tajikistan', 'Thailand',\n",
       "       'Trinidad and Tobago', 'Tunisia', 'Turkey', 'Turkmenistan',\n",
       "       'Turks and Caicos Islands', 'Ukraine', 'United Arab Emirates',\n",
       "       'United Kingdom', 'United States of America', 'Uruguay',\n",
       "       'Uzbekistan', 'Venezuela (Bolivarian Republic of)',\n",
       "       'Virgin Islands (USA)', 'Zimbabwe'], dtype=object)"
      ]
     },
     "execution_count": 8,
     "metadata": {},
     "output_type": "execute_result"
    }
   ],
   "source": [
    "# lists the different countries\n",
    "data['country'].unique()"
   ]
  },
  {
   "cell_type": "code",
   "execution_count": 9,
   "id": "8c746e3e",
   "metadata": {},
   "outputs": [
    {
     "data": {
      "text/plain": [
       "141"
      ]
     },
     "execution_count": 9,
     "metadata": {},
     "output_type": "execute_result"
    }
   ],
   "source": [
    "# the Number of different Countries our dataset is from\n",
    "data['country'].nunique()\n",
    "# Our dataset is from 141 different Countries"
   ]
  },
  {
   "cell_type": "code",
   "execution_count": 10,
   "id": "1d3641a5",
   "metadata": {},
   "outputs": [
    {
     "data": {
      "text/plain": [
       "array([1985, 1986, 1987, 1988, 1989, 1990, 1991, 1992, 1993, 1994, 1995,\n",
       "       1996, 1997, 1998, 1999, 2000, 2001, 2002, 2003, 2004, 2005, 2006,\n",
       "       2007, 2008, 2009, 2010, 2011, 2012, 2013, 2014, 2015, 1983, 1984,\n",
       "       2016, 1979, 1980, 1981, 1982], dtype=int64)"
      ]
     },
     "execution_count": 10,
     "metadata": {},
     "output_type": "execute_result"
    }
   ],
   "source": [
    "# The different country groups\n",
    "data['year'].unique()"
   ]
  },
  {
   "cell_type": "code",
   "execution_count": 11,
   "id": "f6e6058e",
   "metadata": {},
   "outputs": [],
   "source": [
    "# Replace 0 values with, NA\n",
    "data['suicides_no'] = data['suicides_no'].replace(0,np.NAN)\n",
    "\n",
    "# replace Na values with, mean value\n",
    "mean_value=data['population'].mean()\n",
    "\n",
    "data['population']=data['population'].fillna(mean_value)"
   ]
  },
  {
   "cell_type": "code",
   "execution_count": 12,
   "id": "1beb50e7",
   "metadata": {},
   "outputs": [],
   "source": [
    "# do same for Suicides\n",
    "# replace Na values with, mean value\n",
    "mean_value=data['suicides_no'].mean()\n",
    "\n",
    "data['suicides_no']=data['suicides_no'].fillna(mean_value)"
   ]
  },
  {
   "cell_type": "code",
   "execution_count": 13,
   "id": "334089d1",
   "metadata": {},
   "outputs": [
    {
     "data": {
      "text/plain": [
       "country        0\n",
       "year           0\n",
       "sex            0\n",
       "age            0\n",
       "suicides_no    0\n",
       "population     0\n",
       "dtype: int64"
      ]
     },
     "execution_count": 13,
     "metadata": {},
     "output_type": "execute_result"
    }
   ],
   "source": [
    "data.isna().sum()"
   ]
  },
  {
   "cell_type": "markdown",
   "id": "12650b1e",
   "metadata": {},
   "source": [
    "# Which year has the most suicides"
   ]
  },
  {
   "cell_type": "code",
   "execution_count": 14,
   "id": "47113a9c",
   "metadata": {},
   "outputs": [
    {
     "name": "stdout",
     "output_type": "stream",
     "text": [
      "Year Which Has Highest suicides_no :  1994\n",
      "Year Which Has Lowest suicides_no  :  1987\n"
     ]
    },
    {
     "data": {
      "text/html": [
       "<div>\n",
       "<style scoped>\n",
       "    .dataframe tbody tr th:only-of-type {\n",
       "        vertical-align: middle;\n",
       "    }\n",
       "\n",
       "    .dataframe tbody tr th {\n",
       "        vertical-align: top;\n",
       "    }\n",
       "\n",
       "    .dataframe thead th {\n",
       "        text-align: right;\n",
       "    }\n",
       "</style>\n",
       "<table border=\"1\" class=\"dataframe\">\n",
       "  <thead>\n",
       "    <tr style=\"text-align: right;\">\n",
       "      <th></th>\n",
       "      <th>33128</th>\n",
       "      <th>29</th>\n",
       "    </tr>\n",
       "  </thead>\n",
       "  <tbody>\n",
       "    <tr>\n",
       "      <th>country</th>\n",
       "      <td>Russian Federation</td>\n",
       "      <td>Albania</td>\n",
       "    </tr>\n",
       "    <tr>\n",
       "      <th>year</th>\n",
       "      <td>1994</td>\n",
       "      <td>1987</td>\n",
       "    </tr>\n",
       "    <tr>\n",
       "      <th>sex</th>\n",
       "      <td>male</td>\n",
       "      <td>female</td>\n",
       "    </tr>\n",
       "    <tr>\n",
       "      <th>age</th>\n",
       "      <td>35-54 years</td>\n",
       "      <td>75+ years</td>\n",
       "    </tr>\n",
       "    <tr>\n",
       "      <th>suicides_no</th>\n",
       "      <td>22338.0</td>\n",
       "      <td>1.0</td>\n",
       "    </tr>\n",
       "    <tr>\n",
       "      <th>population</th>\n",
       "      <td>19044200.0</td>\n",
       "      <td>35600.0</td>\n",
       "    </tr>\n",
       "  </tbody>\n",
       "</table>\n",
       "</div>"
      ],
      "text/plain": [
       "                          33128      29   \n",
       "country      Russian Federation    Albania\n",
       "year                       1994       1987\n",
       "sex                        male     female\n",
       "age                 35-54 years  75+ years\n",
       "suicides_no             22338.0        1.0\n",
       "population           19044200.0    35600.0"
      ]
     },
     "execution_count": 14,
     "metadata": {},
     "output_type": "execute_result"
    }
   ],
   "source": [
    "data['suicides_no'] = data['suicides_no'].replace(0,np.NAN)\n",
    "\n",
    "mean_value=data['suicides_no'].mean()\n",
    "data['suicides_no']=data['suicides_no'].fillna(mean_value)\n",
    "\n",
    "def find_minmax(x):\n",
    "     #use the function 'idmin' to find the index of lowest suicide\n",
    "    min_index = data[x].idxmin()\n",
    "    #use the function 'idmax' to find the index of Highest suicide\n",
    "    high_index = data[x].idxmax()\n",
    "    \n",
    "    high = pd.DataFrame(data.loc[high_index,:])\n",
    "    low = pd.DataFrame(data.loc[min_index,:])\n",
    "    \n",
    "    #print the Year with high and low suicide\n",
    "    print(\"Year Which Has Highest \"+ x + \" : \",data['year'][high_index])\n",
    "    print(\"Year Which Has Lowest \"+ x + \"  : \",data['year'][min_index])\n",
    "    return pd.concat([high,low],axis = 1)\n",
    "\n",
    "find_minmax('suicides_no')"
   ]
  },
  {
   "cell_type": "code",
   "execution_count": 15,
   "id": "3f36fad2",
   "metadata": {},
   "outputs": [
    {
     "data": {
      "image/png": "[encoded data removed]",
      "text/plain": [
       "<Figure size 432x288 with 1 Axes>"
      ]
     },
     "metadata": {
      "needs_background": "light"
     },
     "output_type": "display_data"
    }
   ],
   "source": [
    "# year-wise analysis of mean number sucidies of each year\n",
    "            # x             #y\n",
    "data.groupby('year')['suicides_no'].mean().plot()\n",
    "\n",
    "#setup the title and labels of the figure.\n",
    "plt.title(\"Year vs. Suicide Count\",fontsize = 14)\n",
    "plt.xlabel('Year',fontsize = 13)\n",
    "plt.ylabel('Suicide Count',fontsize = 13)\n",
    "\n",
    "#setup the figure size.\n",
    "sns.set(rc={'figure.figsize':(10,5)})\n",
    "sns.set_style(\"whitegrid\")"
   ]
  },
  {
   "cell_type": "markdown",
   "id": "46f76475",
   "metadata": {},
   "source": [
    "# Which Country has the most vs least suicides"
   ]
  },
  {
   "cell_type": "code",
   "execution_count": 16,
   "id": "5c4f1bbf",
   "metadata": {},
   "outputs": [
    {
     "name": "stdout",
     "output_type": "stream",
     "text": [
      "Country Which Has Highest suicides_no :  Russian Federation\n",
      "Country Which Has Lowest suicides_no  :  Albania\n"
     ]
    },
    {
     "data": {
      "text/html": [
       "<div>\n",
       "<style scoped>\n",
       "    .dataframe tbody tr th:only-of-type {\n",
       "        vertical-align: middle;\n",
       "    }\n",
       "\n",
       "    .dataframe tbody tr th {\n",
       "        vertical-align: top;\n",
       "    }\n",
       "\n",
       "    .dataframe thead th {\n",
       "        text-align: right;\n",
       "    }\n",
       "</style>\n",
       "<table border=\"1\" class=\"dataframe\">\n",
       "  <thead>\n",
       "    <tr style=\"text-align: right;\">\n",
       "      <th></th>\n",
       "      <th>29</th>\n",
       "      <th>33128</th>\n",
       "    </tr>\n",
       "  </thead>\n",
       "  <tbody>\n",
       "    <tr>\n",
       "      <th>country</th>\n",
       "      <td>Albania</td>\n",
       "      <td>Russian Federation</td>\n",
       "    </tr>\n",
       "    <tr>\n",
       "      <th>year</th>\n",
       "      <td>1987</td>\n",
       "      <td>1994</td>\n",
       "    </tr>\n",
       "    <tr>\n",
       "      <th>sex</th>\n",
       "      <td>female</td>\n",
       "      <td>male</td>\n",
       "    </tr>\n",
       "    <tr>\n",
       "      <th>age</th>\n",
       "      <td>75+ years</td>\n",
       "      <td>35-54 years</td>\n",
       "    </tr>\n",
       "    <tr>\n",
       "      <th>suicides_no</th>\n",
       "      <td>1.0</td>\n",
       "      <td>22338.0</td>\n",
       "    </tr>\n",
       "    <tr>\n",
       "      <th>population</th>\n",
       "      <td>35600.0</td>\n",
       "      <td>19044200.0</td>\n",
       "    </tr>\n",
       "  </tbody>\n",
       "</table>\n",
       "</div>"
      ],
      "text/plain": [
       "                 29                  33128\n",
       "country        Albania  Russian Federation\n",
       "year              1987                1994\n",
       "sex             female                male\n",
       "age          75+ years         35-54 years\n",
       "suicides_no        1.0             22338.0\n",
       "population     35600.0          19044200.0"
      ]
     },
     "execution_count": 16,
     "metadata": {},
     "output_type": "execute_result"
    }
   ],
   "source": [
    "def find_minmax(x):\n",
    "     #use the function 'idmin' to find the index of lowest suicide\n",
    "    min_index = data[x].idxmin()\n",
    "    #use the function 'idmax' to find the index of Highest suicide\n",
    "    high_index = data[x].idxmax()\n",
    "    \n",
    "    high = pd.DataFrame(data.loc[high_index,:])\n",
    "    low = pd.DataFrame(data.loc[min_index,:])\n",
    "    \n",
    "    #print the country with high and low suicide\n",
    "    print(\"Country Which Has Highest \"+ x + \" : \",data['country'][high_index])\n",
    "    print(\"Country Which Has Lowest \"+ x + \"  : \",data['country'][min_index])\n",
    "    return pd.concat([low,high],axis = 1)\n",
    "\n",
    "find_minmax('suicides_no')"
   ]
  },
  {
   "cell_type": "code",
   "execution_count": 17,
   "id": "49aa513f",
   "metadata": {},
   "outputs": [],
   "source": [
    "# Create new column to calculate suicide per population\n",
    "# calculate mean of suicides_no col\n",
    "meanSuicide = data['suicides_no'].mean()\n",
    "# calculate mean of pop. col\n",
    "meanPop = data['population'].mean()\n",
    "\n",
    "  \n",
    "# drops any Na rows\n",
    "data = data.dropna()    \n",
    "    \n",
    "# Replace 0 or NaN suicides_no, with the mean Suicide    \n",
    "data['suicides_no'] = data['suicides_no'].replace(np.NAN,meanSuicide)\n",
    "\n",
    "# Replace 0 or NaN populations, with the mean Populations\n",
    "data['population'] = data['population'].replace(np.NAN,meanPop)\n",
    "data['population'] = data['population'].replace(0,meanPop)"
   ]
  },
  {
   "cell_type": "code",
   "execution_count": 18,
   "id": "4201d086",
   "metadata": {},
   "outputs": [
    {
     "data": {
      "text/html": [
       "<div>\n",
       "<style scoped>\n",
       "    .dataframe tbody tr th:only-of-type {\n",
       "        vertical-align: middle;\n",
       "    }\n",
       "\n",
       "    .dataframe tbody tr th {\n",
       "        vertical-align: top;\n",
       "    }\n",
       "\n",
       "    .dataframe thead th {\n",
       "        text-align: right;\n",
       "    }\n",
       "</style>\n",
       "<table border=\"1\" class=\"dataframe\">\n",
       "  <thead>\n",
       "    <tr style=\"text-align: right;\">\n",
       "      <th></th>\n",
       "      <th>country</th>\n",
       "      <th>year</th>\n",
       "      <th>sex</th>\n",
       "      <th>age</th>\n",
       "      <th>suicides_no</th>\n",
       "      <th>population</th>\n",
       "      <th>suicide_per_pop</th>\n",
       "    </tr>\n",
       "  </thead>\n",
       "  <tbody>\n",
       "    <tr>\n",
       "      <th>43773</th>\n",
       "      <td>Zimbabwe</td>\n",
       "      <td>1990</td>\n",
       "      <td>male</td>\n",
       "      <td>5-14 years</td>\n",
       "      <td>6.0</td>\n",
       "      <td>1.456536e+06</td>\n",
       "      <td>0.000004</td>\n",
       "    </tr>\n",
       "    <tr>\n",
       "      <th>43774</th>\n",
       "      <td>Zimbabwe</td>\n",
       "      <td>1990</td>\n",
       "      <td>male</td>\n",
       "      <td>55-74 years</td>\n",
       "      <td>74.0</td>\n",
       "      <td>1.456536e+06</td>\n",
       "      <td>0.000051</td>\n",
       "    </tr>\n",
       "    <tr>\n",
       "      <th>43775</th>\n",
       "      <td>Zimbabwe</td>\n",
       "      <td>1990</td>\n",
       "      <td>male</td>\n",
       "      <td>75+ years</td>\n",
       "      <td>13.0</td>\n",
       "      <td>1.456536e+06</td>\n",
       "      <td>0.000009</td>\n",
       "    </tr>\n",
       "  </tbody>\n",
       "</table>\n",
       "</div>"
      ],
      "text/plain": [
       "        country  year   sex          age  suicides_no    population  \\\n",
       "43773  Zimbabwe  1990  male   5-14 years          6.0  1.456536e+06   \n",
       "43774  Zimbabwe  1990  male  55-74 years         74.0  1.456536e+06   \n",
       "43775  Zimbabwe  1990  male    75+ years         13.0  1.456536e+06   \n",
       "\n",
       "       suicide_per_pop  \n",
       "43773         0.000004  \n",
       "43774         0.000051  \n",
       "43775         0.000009  "
      ]
     },
     "execution_count": 18,
     "metadata": {},
     "output_type": "execute_result"
    }
   ],
   "source": [
    "data['suicide_per_pop'] = data.apply(lambda row: row.suicides_no / row.population, axis = 1) \n",
    "\n",
    "data.tail(3)"
   ]
  },
  {
   "cell_type": "code",
   "execution_count": 19,
   "id": "6fe3c2eb",
   "metadata": {},
   "outputs": [
    {
     "name": "stdout",
     "output_type": "stream",
     "text": [
      "Country Which Has Highest suicide_per_pop :  Rodrigues\n",
      "Country Which Has Lowest suicide_per_pop  :  Egypt\n"
     ]
    },
    {
     "data": {
      "text/html": [
       "<div>\n",
       "<style scoped>\n",
       "    .dataframe tbody tr th:only-of-type {\n",
       "        vertical-align: middle;\n",
       "    }\n",
       "\n",
       "    .dataframe tbody tr th {\n",
       "        vertical-align: top;\n",
       "    }\n",
       "\n",
       "    .dataframe thead th {\n",
       "        text-align: right;\n",
       "    }\n",
       "</style>\n",
       "<table border=\"1\" class=\"dataframe\">\n",
       "  <thead>\n",
       "    <tr style=\"text-align: right;\">\n",
       "      <th></th>\n",
       "      <th>12993</th>\n",
       "      <th>32351</th>\n",
       "    </tr>\n",
       "  </thead>\n",
       "  <tbody>\n",
       "    <tr>\n",
       "      <th>country</th>\n",
       "      <td>Egypt</td>\n",
       "      <td>Rodrigues</td>\n",
       "    </tr>\n",
       "    <tr>\n",
       "      <th>year</th>\n",
       "      <td>2005</td>\n",
       "      <td>2004</td>\n",
       "    </tr>\n",
       "    <tr>\n",
       "      <th>sex</th>\n",
       "      <td>male</td>\n",
       "      <td>male</td>\n",
       "    </tr>\n",
       "    <tr>\n",
       "      <th>age</th>\n",
       "      <td>5-14 years</td>\n",
       "      <td>75+ years</td>\n",
       "    </tr>\n",
       "    <tr>\n",
       "      <th>suicides_no</th>\n",
       "      <td>1.0</td>\n",
       "      <td>249.106328</td>\n",
       "    </tr>\n",
       "    <tr>\n",
       "      <th>population</th>\n",
       "      <td>9543088.0</td>\n",
       "      <td>259.0</td>\n",
       "    </tr>\n",
       "    <tr>\n",
       "      <th>suicide_per_pop</th>\n",
       "      <td>0.0</td>\n",
       "      <td>0.9618</td>\n",
       "    </tr>\n",
       "  </tbody>\n",
       "</table>\n",
       "</div>"
      ],
      "text/plain": [
       "                      12993       32351\n",
       "country               Egypt   Rodrigues\n",
       "year                   2005        2004\n",
       "sex                    male        male\n",
       "age              5-14 years   75+ years\n",
       "suicides_no             1.0  249.106328\n",
       "population        9543088.0       259.0\n",
       "suicide_per_pop         0.0      0.9618"
      ]
     },
     "execution_count": 19,
     "metadata": {},
     "output_type": "execute_result"
    }
   ],
   "source": [
    "find_minmax('suicide_per_pop')"
   ]
  },
  {
   "cell_type": "code",
   "execution_count": 20,
   "id": "42965209",
   "metadata": {},
   "outputs": [
    {
     "data": {
      "image/png": "[encoded data removed]",
      "text/plain": [
       "<Figure size 720x360 with 1 Axes>"
      ]
     },
     "metadata": {},
     "output_type": "display_data"
    }
   ],
   "source": [
    "# year-wise analysis of mean number sucidies of each year\n",
    "            # x             #y\n",
    "data.groupby('country')['suicides_no'].mean().plot()\n",
    "\n",
    "#info = pd.DataFrame(data['country'].sort_values(ascending = False))\n",
    "\n",
    "#setup the title and labels of the figure.\n",
    "plt.title(\"Country Vs. Suicide Count\",fontsize = 14)\n",
    "plt.xlabel('Country',fontsize = 13)\n",
    "plt.ylabel('Suicide Count',fontsize = 13)\n",
    "\n",
    "#setup the figure size.\n",
    "sns.set(rc={'figure.figsize':(10,5)})\n",
    "sns.set_style(\"whitegrid\")"
   ]
  },
  {
   "cell_type": "markdown",
   "id": "c2bd8d9a",
   "metadata": {},
   "source": [
    "# Are certain age groups more inclined to suicide?"
   ]
  },
  {
   "cell_type": "code",
   "execution_count": 21,
   "id": "4fcd9bb5",
   "metadata": {},
   "outputs": [
    {
     "data": {
      "text/html": [
       "<div>\n",
       "<style scoped>\n",
       "    .dataframe tbody tr th:only-of-type {\n",
       "        vertical-align: middle;\n",
       "    }\n",
       "\n",
       "    .dataframe tbody tr th {\n",
       "        vertical-align: top;\n",
       "    }\n",
       "\n",
       "    .dataframe thead th {\n",
       "        text-align: right;\n",
       "    }\n",
       "</style>\n",
       "<table border=\"1\" class=\"dataframe\">\n",
       "  <thead>\n",
       "    <tr style=\"text-align: right;\">\n",
       "      <th></th>\n",
       "      <th>country</th>\n",
       "      <th>year</th>\n",
       "      <th>sex</th>\n",
       "      <th>age</th>\n",
       "      <th>suicides_no</th>\n",
       "      <th>population</th>\n",
       "      <th>suicide_per_pop</th>\n",
       "    </tr>\n",
       "  </thead>\n",
       "  <tbody>\n",
       "    <tr>\n",
       "      <th>38617</th>\n",
       "      <td>Syrian Arab Republic</td>\n",
       "      <td>2001</td>\n",
       "      <td>female</td>\n",
       "      <td>25-34 years</td>\n",
       "      <td>249.106328</td>\n",
       "      <td>1.456536e+06</td>\n",
       "      <td>0.000171</td>\n",
       "    </tr>\n",
       "    <tr>\n",
       "      <th>33376</th>\n",
       "      <td>Russian Federation</td>\n",
       "      <td>2015</td>\n",
       "      <td>female</td>\n",
       "      <td>55-74 years</td>\n",
       "      <td>1062.000000</td>\n",
       "      <td>1.828058e+07</td>\n",
       "      <td>0.000058</td>\n",
       "    </tr>\n",
       "    <tr>\n",
       "      <th>229</th>\n",
       "      <td>Albania</td>\n",
       "      <td>2004</td>\n",
       "      <td>female</td>\n",
       "      <td>25-34 years</td>\n",
       "      <td>11.000000</td>\n",
       "      <td>2.223890e+05</td>\n",
       "      <td>0.000049</td>\n",
       "    </tr>\n",
       "  </tbody>\n",
       "</table>\n",
       "</div>"
      ],
      "text/plain": [
       "                    country  year     sex          age  suicides_no  \\\n",
       "38617  Syrian Arab Republic  2001  female  25-34 years   249.106328   \n",
       "33376    Russian Federation  2015  female  55-74 years  1062.000000   \n",
       "229                 Albania  2004  female  25-34 years    11.000000   \n",
       "\n",
       "         population  suicide_per_pop  \n",
       "38617  1.456536e+06         0.000171  \n",
       "33376  1.828058e+07         0.000058  \n",
       "229    2.223890e+05         0.000049  "
      ]
     },
     "execution_count": 21,
     "metadata": {},
     "output_type": "execute_result"
    }
   ],
   "source": [
    "sample = data.sample(3)\n",
    "sample"
   ]
  },
  {
   "cell_type": "code",
   "execution_count": 22,
   "id": "cc821dab",
   "metadata": {},
   "outputs": [
    {
     "data": {
      "text/plain": [
       "43773     5\n",
       "43774    55\n",
       "43775    75\n",
       "Name: AgeNum, dtype: int32"
      ]
     },
     "execution_count": 22,
     "metadata": {},
     "output_type": "execute_result"
    }
   ],
   "source": [
    " # grabs first 2 chars from Age Column\n",
    "data['AgeNum'] = data['age'].str[:2]\n",
    "\n",
    "# remove all instances of dash -\n",
    "data['AgeNum'] = data['AgeNum'].map(lambda x: x.replace('-',''))\n",
    "\n",
    "# now, convert it to type int (not Object)\n",
    "data['AgeNum'] = data['AgeNum'].astype(int)\n",
    "\n",
    "data['AgeNum'].tail(3)"
   ]
  },
  {
   "cell_type": "code",
   "execution_count": 23,
   "id": "62019abf",
   "metadata": {},
   "outputs": [
    {
     "data": {
      "text/plain": [
       "43773            Adolescent\n",
       "43774    Middle_Aged_Adults\n",
       "43775               Elderly\n",
       "Name: AgeCategory, dtype: object"
      ]
     },
     "execution_count": 23,
     "metadata": {},
     "output_type": "execute_result"
    }
   ],
   "source": [
    "# creates Age Categories\n",
    "def AgeGroup(x):\n",
    "    if(x >= 60):\n",
    "        return \"Elderly\"\n",
    "    elif(x >= 30):\n",
    "        return \"Middle_Aged_Adults\"\n",
    "    elif(x >= 18):\n",
    "        return \"Adults\"\n",
    "    else:\n",
    "        return \"Adolescent\"\n",
    "# Map each row in the Col to the AgeGroup Method\n",
    "data['AgeCategory'] = data['AgeNum'].map(lambda x: AgeGroup(x))\n",
    "# convert it back to type String\n",
    "data['AgeCategory'] = data['AgeCategory'].astype(str)\n",
    "data['AgeCategory'].tail(3)"
   ]
  },
  {
   "cell_type": "code",
   "execution_count": 24,
   "id": "a1d86757",
   "metadata": {},
   "outputs": [
    {
     "data": {
      "text/plain": [
       "43773     5\n",
       "43774    55\n",
       "43775    75\n",
       "Name: AgeNum, dtype: int32"
      ]
     },
     "execution_count": 24,
     "metadata": {},
     "output_type": "execute_result"
    }
   ],
   "source": [
    "data['AgeNum'] .tail(3)"
   ]
  },
  {
   "cell_type": "code",
   "execution_count": 25,
   "id": "525f11e1",
   "metadata": {},
   "outputs": [
    {
     "data": {
      "text/html": [
       "<div>\n",
       "<style scoped>\n",
       "    .dataframe tbody tr th:only-of-type {\n",
       "        vertical-align: middle;\n",
       "    }\n",
       "\n",
       "    .dataframe tbody tr th {\n",
       "        vertical-align: top;\n",
       "    }\n",
       "\n",
       "    .dataframe thead th {\n",
       "        text-align: right;\n",
       "    }\n",
       "</style>\n",
       "<table border=\"1\" class=\"dataframe\">\n",
       "  <thead>\n",
       "    <tr style=\"text-align: right;\">\n",
       "      <th></th>\n",
       "      <th>country</th>\n",
       "      <th>year</th>\n",
       "      <th>sex</th>\n",
       "      <th>age</th>\n",
       "      <th>suicides_no</th>\n",
       "      <th>population</th>\n",
       "      <th>suicide_per_pop</th>\n",
       "      <th>AgeNum</th>\n",
       "      <th>AgeCategory</th>\n",
       "    </tr>\n",
       "  </thead>\n",
       "  <tbody>\n",
       "    <tr>\n",
       "      <th>0</th>\n",
       "      <td>Albania</td>\n",
       "      <td>1985</td>\n",
       "      <td>female</td>\n",
       "      <td>15-24 years</td>\n",
       "      <td>249.106328</td>\n",
       "      <td>277900.0</td>\n",
       "      <td>0.000896</td>\n",
       "      <td>15</td>\n",
       "      <td>Adolescent</td>\n",
       "    </tr>\n",
       "    <tr>\n",
       "      <th>1</th>\n",
       "      <td>Albania</td>\n",
       "      <td>1985</td>\n",
       "      <td>female</td>\n",
       "      <td>25-34 years</td>\n",
       "      <td>249.106328</td>\n",
       "      <td>246800.0</td>\n",
       "      <td>0.001009</td>\n",
       "      <td>25</td>\n",
       "      <td>Adults</td>\n",
       "    </tr>\n",
       "    <tr>\n",
       "      <th>2</th>\n",
       "      <td>Albania</td>\n",
       "      <td>1985</td>\n",
       "      <td>female</td>\n",
       "      <td>35-54 years</td>\n",
       "      <td>249.106328</td>\n",
       "      <td>267500.0</td>\n",
       "      <td>0.000931</td>\n",
       "      <td>35</td>\n",
       "      <td>Middle_Aged_Adults</td>\n",
       "    </tr>\n",
       "  </tbody>\n",
       "</table>\n",
       "</div>"
      ],
      "text/plain": [
       "   country  year     sex          age  suicides_no  population  \\\n",
       "0  Albania  1985  female  15-24 years   249.106328    277900.0   \n",
       "1  Albania  1985  female  25-34 years   249.106328    246800.0   \n",
       "2  Albania  1985  female  35-54 years   249.106328    267500.0   \n",
       "\n",
       "   suicide_per_pop  AgeNum         AgeCategory  \n",
       "0         0.000896      15          Adolescent  \n",
       "1         0.001009      25              Adults  \n",
       "2         0.000931      35  Middle_Aged_Adults  "
      ]
     },
     "execution_count": 25,
     "metadata": {},
     "output_type": "execute_result"
    }
   ],
   "source": [
    "data.head(3)"
   ]
  },
  {
   "cell_type": "code",
   "execution_count": 26,
   "id": "77b91622",
   "metadata": {},
   "outputs": [
    {
     "data": {
      "text/plain": [
       "Text(5.960000000000001, 0.5, 'Suicide Count')"
      ]
     },
     "execution_count": 26,
     "metadata": {},
     "output_type": "execute_result"
    },
    {
     "data": {
      "image/png": "[encoded data removed]",
      "text/plain": [
       "<Figure size 360x360 with 1 Axes>"
      ]
     },
     "metadata": {},
     "output_type": "display_data"
    }
   ],
   "source": [
    "sns.catplot(x=\"AgeCategory\", y=\"suicides_no\",palette=\"ch:.25\", kind=\"bar\",data=data);\n",
    "\n",
    "plt.title('Age vs. Suicide Count',size=25)\n",
    "plt.xlabel('Age Category',size=20)\n",
    "plt.ylabel('Suicide Count',size=20)"
   ]
  },
  {
   "cell_type": "markdown",
   "id": "76a62b52",
   "metadata": {},
   "source": [
    "# What is the relationship between gender and number of suicides"
   ]
  },
  {
   "cell_type": "code",
   "execution_count": 27,
   "id": "282ae420",
   "metadata": {},
   "outputs": [
    {
     "data": {
      "text/plain": [
       "female    21888\n",
       "male      21888\n",
       "Name: sex, dtype: int64"
      ]
     },
     "execution_count": 27,
     "metadata": {},
     "output_type": "execute_result"
    }
   ],
   "source": [
    "# there is an equal number of Males & Females in our data\n",
    "data['sex'].value_counts()"
   ]
  },
  {
   "cell_type": "code",
   "execution_count": 28,
   "id": "6324948a",
   "metadata": {
    "scrolled": true
   },
   "outputs": [
    {
     "data": {
      "image/png": "[encoded data removed]",
      "text/plain": [
       "<Figure size 500.85x360 with 1 Axes>"
      ]
     },
     "metadata": {},
     "output_type": "display_data"
    }
   ],
   "source": [
    "sns.catplot(x=\"sex\", y=\"suicides_no\", hue=\"AgeCategory\", kind=\"bar\", data=data);"
   ]
  },
  {
   "cell_type": "markdown",
   "id": "c3656471",
   "metadata": {},
   "source": [
    "# Machine Learning - Multiple Linear Regression Model"
   ]
  },
  {
   "cell_type": "code",
   "execution_count": 29,
   "id": "78d5013e",
   "metadata": {},
   "outputs": [
    {
     "data": {
      "text/html": [
       "<div>\n",
       "<style scoped>\n",
       "    .dataframe tbody tr th:only-of-type {\n",
       "        vertical-align: middle;\n",
       "    }\n",
       "\n",
       "    .dataframe tbody tr th {\n",
       "        vertical-align: top;\n",
       "    }\n",
       "\n",
       "    .dataframe thead th {\n",
       "        text-align: right;\n",
       "    }\n",
       "</style>\n",
       "<table border=\"1\" class=\"dataframe\">\n",
       "  <thead>\n",
       "    <tr style=\"text-align: right;\">\n",
       "      <th></th>\n",
       "      <th>country</th>\n",
       "      <th>year</th>\n",
       "      <th>sex</th>\n",
       "      <th>age</th>\n",
       "      <th>suicides_no</th>\n",
       "      <th>population</th>\n",
       "      <th>suicide_per_pop</th>\n",
       "      <th>AgeNum</th>\n",
       "      <th>AgeCategory</th>\n",
       "    </tr>\n",
       "  </thead>\n",
       "  <tbody>\n",
       "    <tr>\n",
       "      <th>0</th>\n",
       "      <td>Albania</td>\n",
       "      <td>1985</td>\n",
       "      <td>female</td>\n",
       "      <td>15-24 years</td>\n",
       "      <td>249.106328</td>\n",
       "      <td>277900.0</td>\n",
       "      <td>0.000896</td>\n",
       "      <td>15</td>\n",
       "      <td>Adolescent</td>\n",
       "    </tr>\n",
       "    <tr>\n",
       "      <th>1</th>\n",
       "      <td>Albania</td>\n",
       "      <td>1985</td>\n",
       "      <td>female</td>\n",
       "      <td>25-34 years</td>\n",
       "      <td>249.106328</td>\n",
       "      <td>246800.0</td>\n",
       "      <td>0.001009</td>\n",
       "      <td>25</td>\n",
       "      <td>Adults</td>\n",
       "    </tr>\n",
       "    <tr>\n",
       "      <th>2</th>\n",
       "      <td>Albania</td>\n",
       "      <td>1985</td>\n",
       "      <td>female</td>\n",
       "      <td>35-54 years</td>\n",
       "      <td>249.106328</td>\n",
       "      <td>267500.0</td>\n",
       "      <td>0.000931</td>\n",
       "      <td>35</td>\n",
       "      <td>Middle_Aged_Adults</td>\n",
       "    </tr>\n",
       "  </tbody>\n",
       "</table>\n",
       "</div>"
      ],
      "text/plain": [
       "   country  year     sex          age  suicides_no  population  \\\n",
       "0  Albania  1985  female  15-24 years   249.106328    277900.0   \n",
       "1  Albania  1985  female  25-34 years   249.106328    246800.0   \n",
       "2  Albania  1985  female  35-54 years   249.106328    267500.0   \n",
       "\n",
       "   suicide_per_pop  AgeNum         AgeCategory  \n",
       "0         0.000896      15          Adolescent  \n",
       "1         0.001009      25              Adults  \n",
       "2         0.000931      35  Middle_Aged_Adults  "
      ]
     },
     "execution_count": 29,
     "metadata": {},
     "output_type": "execute_result"
    }
   ],
   "source": [
    "data.head(3)"
   ]
  },
  {
   "cell_type": "code",
   "execution_count": 30,
   "id": "f1ee7743",
   "metadata": {},
   "outputs": [
    {
     "data": {
      "text/html": [
       "<div>\n",
       "<style scoped>\n",
       "    .dataframe tbody tr th:only-of-type {\n",
       "        vertical-align: middle;\n",
       "    }\n",
       "\n",
       "    .dataframe tbody tr th {\n",
       "        vertical-align: top;\n",
       "    }\n",
       "\n",
       "    .dataframe thead th {\n",
       "        text-align: right;\n",
       "    }\n",
       "</style>\n",
       "<table border=\"1\" class=\"dataframe\">\n",
       "  <thead>\n",
       "    <tr style=\"text-align: right;\">\n",
       "      <th></th>\n",
       "      <th>year</th>\n",
       "      <th>sex</th>\n",
       "      <th>AgeNum</th>\n",
       "      <th>suicides_no</th>\n",
       "    </tr>\n",
       "  </thead>\n",
       "  <tbody>\n",
       "    <tr>\n",
       "      <th>0</th>\n",
       "      <td>1985</td>\n",
       "      <td>female</td>\n",
       "      <td>15</td>\n",
       "      <td>249.106328</td>\n",
       "    </tr>\n",
       "    <tr>\n",
       "      <th>1</th>\n",
       "      <td>1985</td>\n",
       "      <td>female</td>\n",
       "      <td>25</td>\n",
       "      <td>249.106328</td>\n",
       "    </tr>\n",
       "    <tr>\n",
       "      <th>2</th>\n",
       "      <td>1985</td>\n",
       "      <td>female</td>\n",
       "      <td>35</td>\n",
       "      <td>249.106328</td>\n",
       "    </tr>\n",
       "  </tbody>\n",
       "</table>\n",
       "</div>"
      ],
      "text/plain": [
       "   year     sex  AgeNum  suicides_no\n",
       "0  1985  female      15   249.106328\n",
       "1  1985  female      25   249.106328\n",
       "2  1985  female      35   249.106328"
      ]
     },
     "execution_count": 30,
     "metadata": {},
     "output_type": "execute_result"
    }
   ],
   "source": [
    "newData= data.loc[:,['year','sex','AgeNum','suicides_no']]\n",
    "newData.head(3)"
   ]
  },
  {
   "cell_type": "code",
   "execution_count": 31,
   "id": "44d590dd",
   "metadata": {},
   "outputs": [],
   "source": [
    "X = newData.iloc[:, :-1].values # grab every col except last\n",
    "y = newData.iloc[:, -1].values # grab last col"
   ]
  },
  {
   "cell_type": "code",
   "execution_count": 32,
   "id": "b8aed71a",
   "metadata": {},
   "outputs": [],
   "source": [
    "from sklearn.compose import ColumnTransformer\n",
    "from sklearn.preprocessing import OneHotEncoder\n",
    "ct = ColumnTransformer(transformers=[('encoder', OneHotEncoder(), [1])], remainder='passthrough')\n",
    "X = np.array(ct.fit_transform(X))"
   ]
  },
  {
   "cell_type": "code",
   "execution_count": 33,
   "id": "db88088a",
   "metadata": {},
   "outputs": [
    {
     "data": {
      "text/plain": [
       "array([[1.0, 0.0, 1985, 15],\n",
       "       [1.0, 0.0, 1985, 25],\n",
       "       [1.0, 0.0, 1985, 35],\n",
       "       ...,\n",
       "       [0.0, 1.0, 1990, 5],\n",
       "       [0.0, 1.0, 1990, 55],\n",
       "       [0.0, 1.0, 1990, 75]], dtype=object)"
      ]
     },
     "execution_count": 33,
     "metadata": {},
     "output_type": "execute_result"
    }
   ],
   "source": [
    "# the Gender feature, is now encoded using 0's & 1's\n",
    "X"
   ]
  },
  {
   "cell_type": "code",
   "execution_count": 34,
   "id": "5cb382a3",
   "metadata": {},
   "outputs": [
    {
     "data": {
      "text/plain": [
       "array([249.10632817, 249.10632817, 249.10632817, ...,   6.        ,\n",
       "        74.        ,  13.        ])"
      ]
     },
     "execution_count": 34,
     "metadata": {},
     "output_type": "execute_result"
    }
   ],
   "source": [
    "y"
   ]
  },
  {
   "cell_type": "code",
   "execution_count": 35,
   "id": "49ff3782",
   "metadata": {},
   "outputs": [],
   "source": [
    "# Split the dataset into training and testing set\n",
    "from sklearn.model_selection import train_test_split\n",
    "x_train, x_test, y_train, y_test = train_test_split(X,y,test_size = 0.2, random_state = 1)  "
   ]
  },
  {
   "cell_type": "code",
   "execution_count": 36,
   "id": "f13ffa66",
   "metadata": {},
   "outputs": [
    {
     "data": {
      "text/plain": [
       "LinearRegression()"
      ]
     },
     "execution_count": 36,
     "metadata": {},
     "output_type": "execute_result"
    }
   ],
   "source": [
    "# Train Multiple Linear Regression model on training set\n",
    "from sklearn.linear_model import LinearRegression\n",
    "regressor = LinearRegression()\n",
    "regressor.fit(x_train, y_train)"
   ]
  },
  {
   "cell_type": "code",
   "execution_count": 37,
   "id": "838327d4",
   "metadata": {},
   "outputs": [
    {
     "name": "stdout",
     "output_type": "stream",
     "text": [
      "[148.97658107]\n"
     ]
    }
   ],
   "source": [
    "# we are predicting the suicide count given certain demographics\n",
    "\n",
    "# A 25 year old male, in 2001 \n",
    "# suicide count of about 149.\n",
    "print(regressor.predict([[1,0,2001,25]]))"
   ]
  },
  {
   "cell_type": "code",
   "execution_count": null,
   "id": "bd6abbd0",
   "metadata": {},
   "outputs": [],
   "source": []
  }
 ],
 "metadata": {
  "kernelspec": {
   "display_name": "mlenv",
   "language": "python",
   "name": "mlenv"
  },
  "language_info": {
   "codemirror_mode": {
    "name": "ipython",
    "version": 3
   },
   "file_extension": ".py",
   "mimetype": "text/x-python",
   "name": "python",
   "nbconvert_exporter": "python",
   "pygments_lexer": "ipython3",
   "version": "3.7.13"
  }
 },
 "nbformat": 4,
 "nbformat_minor": 5
}
